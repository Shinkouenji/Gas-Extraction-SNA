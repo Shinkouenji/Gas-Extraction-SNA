{
 "cells": [
  {
   "cell_type": "code",
   "execution_count": 24,
   "id": "a5670328-1e2d-47a4-b419-8436fcfc44ff",
   "metadata": {},
   "outputs": [],
   "source": [
    "# Import pandas to work with DataFrames\n",
    "import pandas as pd\n",
    "# Import matplotlib for plotting graphs\n",
    "import matplotlib.pyplot as plt\n",
    "import scipy\n",
    "# Import json to change the data format\n",
    "import json\n",
    "# Import glob to select multiple files\n",
    "import glob\n",
    "# Import shutil to copy the content of a source file to a destination file\n",
    "import shutil\n",
    "# Import os to mimic operation system functions into python\n",
    "import os\n",
    "# Import datetime to interact with dates as date objects\n",
    "import datetime\n",
    "# Import networkx to create graphs in python\n",
    "import networkx as nx\n",
    "import numpy as np"
   ]
  },
  {
   "cell_type": "code",
   "execution_count": 25,
   "id": "bf93891f-3141-4c77-b8ea-a98284b577a0",
   "metadata": {},
   "outputs": [],
   "source": [
    "# Select the right folder containing the data\n",
    "os. chdir('/scratch/s5724090/TweetData/TwitterGEDv2')"
   ]
  },
  {
   "cell_type": "code",
   "execution_count": 26,
   "id": "62ad3ead-0af9-4872-ac9c-796c8f110253",
   "metadata": {},
   "outputs": [],
   "source": [
    "# Convert the json data to DataFrame\n",
    "data_list = []\n",
    "\n",
    "\n",
    "file_list = glob.glob('*.txt')\n",
    "\n",
    "\n",
    "for file in file_list:\n",
    "\n",
    "    with open(file, 'r') as f:\n",
    "        for line in f:\n",
    "            try:\n",
    "                data = json.loads(line)\n",
    "                data_list.append(data)\n",
    "            except json.JSONDecodeError:\n",
    "                print(\"Error decoding JSON on line:\", line)\n",
    "\n",
    "\n",
    "groningen_complete = pd.json_normalize(data_list)"
   ]
  },
  {
   "cell_type": "code",
   "execution_count": 27,
   "id": "78ed62a6-1db3-4f17-9ae0-6923e30eac31",
   "metadata": {},
   "outputs": [],
   "source": [
    "# Select the necessary columns for social network analysis\n",
    "sna_columns = groningen_complete[['retweeted_status.user.id_str', 'retweeted_status.user.screen_name', 'retweeted_status.user.name', 'retweeted_status.user.description', \n",
    "                                  'user.id_str', 'user.screen_name', 'user.name','user.description' ,'created_at', 'text']]\n",
    "# Rename the columns to make them unambiguous\n",
    "sna_columns = sna_columns.rename(columns={'retweeted_status.user.id_str': 'retweeted_user_id', 'retweeted_status.user.screen_name': 'retweeted_user_handle', \n",
    "                            'retweeted_status.user.name': 'retweeted_user_display_name', 'retweeted_status.user.description':'retweeted_user_bio','user.id_str': 'retweeter_id', 'user.screen_name': 'retweeter_handle', \n",
    "                            'user.name': 'retweeter_display_name','user.description':'retweeter_bio'})"
   ]
  },
  {
   "cell_type": "code",
   "execution_count": 31,
   "id": "29dd196c-74af-4999-a629-d46a232fe3de",
   "metadata": {},
   "outputs": [],
   "source": [
    "# Make datetime objects of the values in the created_at column\n",
    "sna_columns['created_at'] = pd.to_datetime(sna_columns['created_at'])\n",
    "\n",
    "# Format the values to only contain year, month and day\n",
    "sna_columns['created_at'] = sna_columns['created_at'].dt.strftime('%Y-%m-%d')\n",
    "\n",
    "# Turn them into datetime objects again\n",
    "sna_columns['created_at'] = pd.to_datetime(sna_columns['created_at'])"
   ]
  },
  {
   "cell_type": "code",
   "execution_count": 32,
   "id": "395ef93f-4d56-4928-b48c-61c34b8dddd0",
   "metadata": {},
   "outputs": [],
   "source": [
    "# Make a function to make a new DataFrame that is filtered on the time period you need based on the first year\n",
    "def filtered_df(dataframe, first_year):\n",
    "    startdate = pd.to_datetime(f'{first_year}-11-16')\n",
    "    enddate = pd.to_datetime(f'{first_year+1}-11-15')\n",
    "    return dataframe.loc[(dataframe['created_at'] >= startdate) & (dataframe['created_at'] <= enddate)]"
   ]
  },
  {
   "cell_type": "markdown",
   "id": "804f8855-550f-4468-ae6b-d9108a815e3f",
   "metadata": {
    "tags": []
   },
   "source": [
    "## Adding weight"
   ]
  },
  {
   "cell_type": "code",
   "execution_count": 33,
   "id": "a027e703-c1ce-4180-abe1-200b5e0309fb",
   "metadata": {},
   "outputs": [],
   "source": [
    "# Create a function to add a weight column \n",
    "def weighted_df(dataframe):\n",
    "    weight_df = dataframe[['retweeter_id', 'retweeted_user_id']]\n",
    "    # All the edges receive a weight of 1\n",
    "    weight_df.insert(0, 'weight', 1)\n",
    "    # Through the grouping by identical edges, weight is accumulated\n",
    "    weighted_dataframe = weight_df.groupby(['retweeter_id','retweeted_user_id']).sum().reset_index()\n",
    "    weighted_dataframe = weighted_dataframe.dropna(ignore_index=True)\n",
    "    return weighted_dataframe"
   ]
  },
  {
   "cell_type": "code",
   "execution_count": 34,
   "id": "83ebcc4c-17cb-4435-9357-29a87b950b41",
   "metadata": {},
   "outputs": [],
   "source": [
    "# Create a DataFrame for each year, based on the first year.\n",
    "# Create a column with weight based on occurences of identical edges\n",
    "df_12_13 = weighted_df(filtered_df(sna_columns, 2012))\n",
    "df_13_14 = weighted_df(filtered_df(sna_columns, 2013))\n",
    "df_14_15 = weighted_df(filtered_df(sna_columns, 2014))\n",
    "df_15_16 = weighted_df(filtered_df(sna_columns, 2015))\n",
    "df_16_17 = weighted_df(filtered_df(sna_columns, 2016))\n",
    "df_17_18 = weighted_df(filtered_df(sna_columns, 2017))\n",
    "df_18_19 = weighted_df(filtered_df(sna_columns, 2018))\n",
    "df_19_20 = weighted_df(filtered_df(sna_columns, 2019))\n",
    "df_20_21 = weighted_df(filtered_df(sna_columns, 2020))\n",
    "df_21_22 = weighted_df(filtered_df(sna_columns, 2021))"
   ]
  },
  {
   "cell_type": "markdown",
   "id": "ef14e30a-2e6b-4e60-a203-900c79ed2cde",
   "metadata": {
    "tags": []
   },
   "source": [
    "## Creating graphs"
   ]
  },
  {
   "cell_type": "code",
   "execution_count": 35,
   "id": "da73e221-507f-4641-8674-8753f0f62652",
   "metadata": {},
   "outputs": [],
   "source": [
    "# Define a function that creates a graph \n",
    "def create_graph(dataframe):\n",
    "    G = nx.from_pandas_edgelist(dataframe,\n",
    "    # The source is the retweeter\n",
    "                        source = 'retweeter_id',\n",
    "    # The target is the retweeted user so that the graph is directional towards the retweeted user.\n",
    "                        target = 'retweeted_user_id',\n",
    "                        edge_attr = 'weight',\n",
    "                             create_using=nx.DiGraph())\n",
    "    return G"
   ]
  },
  {
   "cell_type": "code",
   "execution_count": 36,
   "id": "dca1a5d5-19b3-4634-a4d0-f8f9b9d7d93d",
   "metadata": {},
   "outputs": [],
   "source": [
    "# Create a graph for all the dataframes and assign them to values\n",
    "G_12_13 = create_graph(df_12_13)\n",
    "G_13_14 = create_graph(df_13_14)\n",
    "G_14_15 = create_graph(df_14_15)\n",
    "G_15_16 = create_graph(df_15_16)\n",
    "G_16_17 = create_graph(df_16_17)\n",
    "G_17_18 = create_graph(df_17_18)\n",
    "G_18_19 = create_graph(df_18_19)\n",
    "G_19_20 = create_graph(df_19_20)\n",
    "G_20_21 = create_graph(df_20_21)\n",
    "G_21_22 = create_graph(df_21_22)"
   ]
  },
  {
   "cell_type": "markdown",
   "id": "731b88f1-a7ff-474f-acab-ca19f5cfb13e",
   "metadata": {},
   "source": [
    "## Calculating the top 10 in-degree and tagging the nodes as P, M, AC or OC \n",
    "### P stands for politics, M for media, AC for action group and OC for Ordinary Citizen"
   ]
  },
  {
   "cell_type": "code",
   "execution_count": 81,
   "id": "b3ca99b4-81da-4454-957c-5ce947f87dc4",
   "metadata": {},
   "outputs": [],
   "source": [
    "def top_indegree(Graph):\n",
    "    # Get the in-degree centrality for each node\n",
    "    id_centrality = nx.in_degree_centrality(Graph)\n",
    "    # Make a dataframe of the user id and centrality per user\n",
    "    cent_df = pd.DataFrame.from_dict(id_centrality, orient='index', columns=['in-degree centrality']).reset_index()\n",
    "    cent_df.rename(columns={'index': 'retweeted_user_id'}, inplace=True)\n",
    "    # Get the display names for all the user id's\n",
    "    cent_df_names = cent_df.merge(sna_columns[['retweeted_user_id', 'retweeted_user_display_name']],\n",
    "                                  how='left', on='retweeted_user_id')\n",
    "    unique_cent_df_names = cent_df_names.drop_duplicates(subset='retweeted_user_id')\n",
    "    # Get the top 10 nodes only\n",
    "    top_10 = unique_cent_df_names.sort_values('in-degree centrality', ascending=False).head(10).reset_index(drop=True)\n",
    "    return top_10"
   ]
  },
  {
   "cell_type": "code",
   "execution_count": 82,
   "id": "620a4b22-ea27-407d-aea5-f561765caf4b",
   "metadata": {},
   "outputs": [],
   "source": [
    "# Assign the top 10 in-degree to a variable for all 10 graphs\n",
    "top_indegree_1213 = top_indegree(G_12_13)\n",
    "top_indegree_1314 = top_indegree(G_13_14)\n",
    "top_indegree_1415 = top_indegree(G_14_15)\n",
    "top_indegree_1516 = top_indegree(G_15_16)\n",
    "top_indegree_1617 = top_indegree(G_16_17)\n",
    "top_indegree_1718 = top_indegree(G_17_18)\n",
    "top_indegree_1819 = top_indegree(G_18_19)\n",
    "top_indegree_1920 = top_indegree(G_19_20)\n",
    "top_indegree_2021 = top_indegree(G_20_21)\n",
    "top_indegree_2122 = top_indegree(G_21_22)"
   ]
  },
  {
   "cell_type": "code",
   "execution_count": 83,
   "id": "91096698-32b3-49ad-9acb-d40320980ad2",
   "metadata": {},
   "outputs": [],
   "source": [
    "# Tag all the nodes\n",
    "top_indegree_1213['Tag'] = ['P','M','P','P','P','OC','OC','P','M','OC']"
   ]
  },
  {
   "cell_type": "code",
   "execution_count": 84,
   "id": "ee964953-ab68-4e51-a8c0-2edef48a99ac",
   "metadata": {},
   "outputs": [],
   "source": [
    "top_indegree_1314['Tag'] = ['P','P','P','M','AG','AG','OC','P','P','OC']"
   ]
  },
  {
   "cell_type": "code",
   "execution_count": 85,
   "id": "b310fcec-6d3d-4027-b91d-0e03b0dfb73f",
   "metadata": {},
   "outputs": [],
   "source": [
    "top_indegree_1415['Tag']=['OC','P','AG','M','P','AG','M','M','OC','AG']"
   ]
  },
  {
   "cell_type": "code",
   "execution_count": 86,
   "id": "e0462093-57cc-4ab9-a50b-b8dc5a800782",
   "metadata": {},
   "outputs": [],
   "source": [
    "top_indegree_1516['Tag']=['OC','OC','P','P','AG','P','OC','P','AG','P']"
   ]
  },
  {
   "cell_type": "code",
   "execution_count": 87,
   "id": "d9fe33c9-a74e-4296-b15f-5c13c3e4b6e3",
   "metadata": {},
   "outputs": [],
   "source": [
    "top_indegree_1617['Tag']=['P','OC','OC','AG','P','AG','AG','P','OC','AG']"
   ]
  },
  {
   "cell_type": "code",
   "execution_count": 88,
   "id": "6a05bdbc-48a4-4acf-b278-028f83658903",
   "metadata": {},
   "outputs": [],
   "source": [
    "top_indegree_1718['Tag']=['P','M','AG','OC','OC','OC','M','OC','OC','OC']"
   ]
  },
  {
   "cell_type": "code",
   "execution_count": 89,
   "id": "5dee4e65-f2b1-4575-9360-ecac78a520e8",
   "metadata": {},
   "outputs": [],
   "source": [
    "top_indegree_1819['Tag']=['P','OC','OC','AG','P','OC','AG','AG','OC','P']"
   ]
  },
  {
   "cell_type": "code",
   "execution_count": 90,
   "id": "c9ac8091-fef1-40f1-b63e-25900bd175cc",
   "metadata": {},
   "outputs": [],
   "source": [
    "top_indegree_1920['Tag']=['P','OC','OC','P','OC','OC','AG','OC','OC','AG']"
   ]
  },
  {
   "cell_type": "code",
   "execution_count": 91,
   "id": "93c2daca-d7b8-44ac-a6b5-5187af145079",
   "metadata": {},
   "outputs": [],
   "source": [
    "top_indegree_2021['Tag']=['P','OC','OC','OC','OC','AG','M','P','M','OC']"
   ]
  },
  {
   "cell_type": "code",
   "execution_count": 92,
   "id": "16bd69cc-04bd-4271-8148-76fca098f0cb",
   "metadata": {},
   "outputs": [],
   "source": [
    "top_indegree_2122['Tag']=['P','M','OC','M','P','M','OC','OC','OC','OC']"
   ]
  },
  {
   "cell_type": "code",
   "execution_count": 93,
   "id": "c44e0341-224b-47bd-9a86-a7934b6455f2",
   "metadata": {},
   "outputs": [],
   "source": [
    "# Create a list with all the tagged DataFrames\n",
    "in_degree_years = [top_indegree_1213, top_indegree_1314, top_indegree_1415, top_indegree_1516, top_indegree_1617,\n",
    "                   top_indegree_1718, top_indegree_1819, top_indegree_1920, top_indegree_2021, top_indegree_2122]\n",
    "# Loop over the DataFrames to count the amount of P, M, AG and OC nodes there were in each year\n",
    "# Then append those numbers to the right tag, so they are in the right format for the stacked bar plot\n",
    "p = []\n",
    "m = []\n",
    "ag = []\n",
    "oc = []\n",
    "for year in in_degree_years:\n",
    "    p.append((year['Tag']=='P').sum())\n",
    "    m.append((year['Tag']=='M').sum())\n",
    "    ag.append((year['Tag']=='AG').sum())\n",
    "    oc.append((year['Tag']=='OC').sum())"
   ]
  },
  {
   "cell_type": "code",
   "execution_count": 50,
   "id": "d6025489-c36a-4677-8e97-3581775b79f9",
   "metadata": {},
   "outputs": [
    {
     "data": {
      "image/png": "[encoded data removed]",
      "text/plain": [
       "<Figure size 432x288 with 1 Axes>"
      ]
     },
     "metadata": {
      "needs_background": "light"
     },
     "output_type": "display_data"
    }
   ],
   "source": [
    "# Create the stacked bar plot\n",
    "# The years are the x-axis\n",
    "x = ['12/13', '13/14', '14/15', '15/16', '16/17', '17/18', '18/19', '19/20', '20/21', '21/22']\n",
    "\n",
    "# Create the bars\n",
    "plt.bar(x, p, color='r', label='P');\n",
    "# Make sure the segments do not overlap by using the bottom parameter\n",
    "plt.bar(x, m, bottom=p, color='b', label='M');\n",
    "plt.bar(x, ag, bottom=[i + j for i, j in zip(p, m)], color='m', label='AG');\n",
    "plt.bar(x, oc, bottom=[i + j + k for i, j, k in zip(p, m, ag)], color='c', label='OC');\n",
    "\n",
    "# Add labels and title\n",
    "plt.xlabel(' Years')\n",
    "plt.ylabel('Top 10 highest in-degree centrality')\n",
    "plt.title('Tagged top 10 nodes with the highest in-degree ')\n",
    "plt.legend();"
   ]
  },
  {
   "cell_type": "markdown",
   "id": "acf0dae3-2d51-4743-91dd-85c086b22504",
   "metadata": {
    "tags": []
   },
   "source": [
    "## Tagging the top 10 nodes with the highest out-degree centrality"
   ]
  },
  {
   "cell_type": "code",
   "execution_count": 51,
   "id": "43741fff-2e33-4d58-a106-9687a1d975c1",
   "metadata": {},
   "outputs": [],
   "source": [
    "# Define a function to calculate the out-degree centrality\n",
    "def top_outdegree(Graph):\n",
    "    # Get the in-degree centrality for each node\n",
    "    id_centrality = nx.out_degree_centrality(Graph)\n",
    "    # Make a dataframe of the user id and centrality per user\n",
    "    cent_df = pd.DataFrame.from_dict(id_centrality, orient='index', columns=['out-degree centrality']).reset_index()\n",
    "    cent_df.rename(columns={'index': 'retweeter_id'}, inplace=True)\n",
    "    # Get the display names for all the user id's\n",
    "    cent_df_names = cent_df.merge(sna_columns[['retweeter_id', 'retweeter_display_name']], how='left', on='retweeter_id')\n",
    "    unique_cent_df_names = cent_df_names.drop_duplicates(subset='retweeter_id')\n",
    "    top_10 = unique_cent_df_names.sort_values('out-degree centrality', ascending=False).head(10).reset_index(drop=True)\n",
    "    return top_10"
   ]
  },
  {
   "cell_type": "code",
   "execution_count": 52,
   "id": "909bbafa-05f5-4c8d-80e6-cd6f29995fc6",
   "metadata": {},
   "outputs": [],
   "source": [
    "# Assign the top 10 in-degree to a variable for all 10 graphs\n",
    "top_outdegree_1213 = top_outdegree(G_12_13)\n",
    "top_outdegree_1314 = top_outdegree(G_13_14)\n",
    "top_outdegree_1415 = top_outdegree(G_14_15)\n",
    "top_outdegree_1516 = top_outdegree(G_15_16)\n",
    "top_outdegree_1617 = top_outdegree(G_16_17)\n",
    "top_outdegree_1718 = top_outdegree(G_17_18)\n",
    "top_outdegree_1819 = top_outdegree(G_18_19)\n",
    "top_outdegree_1920 = top_outdegree(G_19_20)\n",
    "top_outdegree_2021 = top_outdegree(G_20_21)\n",
    "top_outdegree_2122 = top_outdegree(G_21_22)"
   ]
  },
  {
   "cell_type": "code",
   "execution_count": 53,
   "id": "694e7354-bc1d-43f1-9ddf-01314e44bb13",
   "metadata": {},
   "outputs": [],
   "source": [
    "top_outdegree_1213['Tag']=['OC','OC','OC','AG','OC','OC','AG','AG','OC','OC']"
   ]
  },
  {
   "cell_type": "code",
   "execution_count": 54,
   "id": "47c923c5-e3a0-4b02-8a18-80153be04e48",
   "metadata": {},
   "outputs": [],
   "source": [
    "top_outdegree_1314['Tag']=['AG','OC','OC','OC','OC','AG','P','OC','AG','P']"
   ]
  },
  {
   "cell_type": "code",
   "execution_count": 55,
   "id": "8c47592a-231d-47b4-89a5-df3e2e8f9cc9",
   "metadata": {},
   "outputs": [],
   "source": [
    "top_outdegree_1415['Tag']=['OC','OC','OC','OC','AG','OC','AG','OC','OC','OC']"
   ]
  },
  {
   "cell_type": "code",
   "execution_count": 56,
   "id": "ad20e85c-10e6-4e35-9a28-bec9af3a2c3f",
   "metadata": {},
   "outputs": [],
   "source": [
    "top_outdegree_1516['Tag']=['OC','AG','OC','OC','OC','AG','OC','OC','OC','OC']"
   ]
  },
  {
   "cell_type": "code",
   "execution_count": 57,
   "id": "f553e608-fa6a-4ccb-aaa4-3352e3dc80a4",
   "metadata": {},
   "outputs": [],
   "source": [
    "top_outdegree_1617['Tag']=['OC','OC','OC','AG','OC','AG','OC','OC','OC','OC']"
   ]
  },
  {
   "cell_type": "code",
   "execution_count": 58,
   "id": "627a4814-c8c6-430f-984a-27c8558cf78c",
   "metadata": {},
   "outputs": [],
   "source": [
    "top_outdegree_1718['Tag']=['OC','OC','OC','OC','OC','AG','OC','OC','OC','OC']"
   ]
  },
  {
   "cell_type": "code",
   "execution_count": 59,
   "id": "282a95d1-b9ca-40da-aefc-a094a2bbdcd0",
   "metadata": {},
   "outputs": [],
   "source": [
    "top_outdegree_1819['Tag']=['OC','OC','OC','OC','OC','OC','OC','OC','OC','AG']"
   ]
  },
  {
   "cell_type": "code",
   "execution_count": 60,
   "id": "b0faf4a1-3b88-401c-a44d-da9dd06a5bd3",
   "metadata": {},
   "outputs": [],
   "source": [
    "top_outdegree_1920['Tag']=['OC','OC','OC','OC','AG','AG','AG','OC','OC','OC']"
   ]
  },
  {
   "cell_type": "code",
   "execution_count": 61,
   "id": "3e9573a7-5c2e-4c4d-ac2d-42551fc98c1a",
   "metadata": {},
   "outputs": [],
   "source": [
    "top_outdegree_2021['Tag']=['OC','OC','OC','OC','OC','OC','OC','OC','OC','OC']"
   ]
  },
  {
   "cell_type": "code",
   "execution_count": 62,
   "id": "1e004565-0639-47eb-be62-9b1d8f8124b4",
   "metadata": {},
   "outputs": [],
   "source": [
    "top_outdegree_2122['Tag']=['OC','OC','OC','OC','OC','OC','OC','OC','OC','OC']"
   ]
  },
  {
   "cell_type": "code",
   "execution_count": 63,
   "id": "fed5ad75-034c-4d82-a730-1897b530f269",
   "metadata": {},
   "outputs": [],
   "source": [
    "# Create a list with all the tagged DataFrames so they can be looped over  \n",
    "in_degree_years = [top_outdegree_1213, top_outdegree_1314, top_outdegree_1415, top_outdegree_1516,\n",
    "                   top_outdegree_1617, top_outdegree_1718, top_outdegree_1819, top_outdegree_1920,\n",
    "                   top_outdegree_2021, top_outdegree_2122]\n",
    "# Loop over the DataFrames to count the amount of P, M, AG and OC nodes there were in each year\n",
    "# Then append those numbers to the right tag, so they are in the right format for the stacked bar plot\n",
    "p = []\n",
    "m = []\n",
    "ag = []\n",
    "oc = []\n",
    "for year in in_degree_years:\n",
    "    p.append((year['Tag']=='P').sum())\n",
    "    m.append((year['Tag']=='M').sum())\n",
    "    ag.append((year['Tag']=='AG').sum())\n",
    "    oc.append((year['Tag']=='OC').sum())"
   ]
  },
  {
   "cell_type": "code",
   "execution_count": 64,
   "id": "5c69dcfe-2e36-4594-ae65-9ae6a08824e0",
   "metadata": {},
   "outputs": [
    {
     "data": {
      "image/png": "[encoded data removed]",
      "text/plain": [
       "<Figure size 432x288 with 1 Axes>"
      ]
     },
     "metadata": {
      "needs_background": "light"
     },
     "output_type": "display_data"
    }
   ],
   "source": [
    "# Create the stacked bar plot\n",
    "# The years are the x-axis\n",
    "x = ['12/13', '13/14', '14/15', '15/16', '16/17', '17/18', '18/19', '19/20', '20/21', '21/22']\n",
    "\n",
    "# Create the bars\n",
    "plt.bar(x, p, color='r', label='P');\n",
    "\n",
    "# Make sure the segments do not overlap by using the bottom parameter\n",
    "plt.bar(x, m, bottom=p, color='b', label='M');\n",
    "plt.bar(x, ag, bottom=[i + j for i, j in zip(p, m)], color='m', label='AG');\n",
    "plt.bar(x, oc, bottom=[i + j + k for i, j, k in zip(p, m, ag)], color='c', label='OC');\n",
    "\n",
    "# Add labels and title\n",
    "plt.xlabel(' Years')\n",
    "plt.ylabel('Top 10 highest out-degree centrality')\n",
    "plt.title('Tagged top 10 nodes with the highest out-degree centrality ')\n",
    "plt.legend();"
   ]
  },
  {
   "cell_type": "markdown",
   "id": "b8ceb57b-7853-4e6c-995b-e4bc5973a94e",
   "metadata": {
    "tags": []
   },
   "source": [
    "## Tagging the top 10 nodes with the highest betweenness centrality"
   ]
  },
  {
   "cell_type": "code",
   "execution_count": 65,
   "id": "a7ec37a8-0b78-4556-adea-2758bd4bc99c",
   "metadata": {},
   "outputs": [],
   "source": [
    "# Make a DataFrame with all users and their tweets to identify the users that have the highest centrality metrics\n",
    "# Combine the user ids and display names into one dataframe\n",
    "all_users = pd.concat([\n",
    "    sna_columns[['retweeted_user_id', 'retweeted_user_handle','retweeted_user_display_name', 'retweeted_user_bio', 'text']].rename(columns={'retweeted_user_id': 'user_id', 'retweeted_user_handle':'user_handle','retweeted_user_display_name': 'display_name','retweeted_user_bio':'user_bio'}),\n",
    "    sna_columns[['retweeter_id','retweeter_handle', 'retweeter_display_name', 'retweeter_bio','text']].rename(columns={'retweeter_id': 'user_id', 'retweeter_handle':'user_handle','retweeter_display_name': 'display_name', 'retweeter_bio':'user_bio'})])\n",
    "# Get rid of the duplicate tweets and drop null values\n",
    "all_users = all_users.drop_duplicates().dropna()"
   ]
  },
  {
   "cell_type": "code",
   "execution_count": 66,
   "id": "689aad65-cadf-435d-b90b-460c834ed65a",
   "metadata": {},
   "outputs": [],
   "source": [
    "# Create a function to get the highest betweenness centrality\n",
    "def top_betweenness(Graph):\n",
    "    get_betweenness = nx.betweenness_centrality(Graph)\n",
    "    betweenness_df = pd.DataFrame.from_dict(get_betweenness, orient='index', columns=['Betweenness centrality']).reset_index()\n",
    "    betweenness_df.rename(columns={'index': 'user_id'}, inplace=True)\n",
    "    betweenness_names = betweenness_df.merge(all_users[['user_id', 'display_name']], how='left', on='user_id')\n",
    "    unique_betweenness_names = betweenness_names.drop_duplicates(subset='user_id')\n",
    "    # Return the top 10\n",
    "    top_10 = unique_betweenness_names.sort_values('Betweenness centrality', ascending=False).head(10).reset_index(drop=True)\n",
    "    return top_10"
   ]
  },
  {
   "cell_type": "code",
   "execution_count": 67,
   "id": "a17abe87-4bfd-4cc3-97cb-6ecd13cd35c2",
   "metadata": {},
   "outputs": [],
   "source": [
    "# Calculate the nodes with the top 10 highest betweenness centrality\n",
    "top_betweeenness_1213 = top_betweenness(G_12_13)\n",
    "top_betweeenness_1314 = top_betweenness(G_13_14)\n",
    "top_betweeenness_1415 = top_betweenness(G_14_15)\n",
    "top_betweeenness_1516 = top_betweenness(G_15_16)\n",
    "top_betweeenness_1617 = top_betweenness(G_16_17)\n",
    "top_betweeenness_1718 = top_betweenness(G_17_18)\n",
    "top_betweeenness_1819 = top_betweenness(G_18_19)\n",
    "top_betweeenness_1920 = top_betweenness(G_19_20)\n",
    "top_betweeenness_2021 = top_betweenness(G_20_21)\n",
    "top_betweeenness_2122 = top_betweenness(G_21_22)"
   ]
  },
  {
   "cell_type": "code",
   "execution_count": 68,
   "id": "6aa49a31-3a2b-4428-bdb8-921c9c1a6485",
   "metadata": {},
   "outputs": [],
   "source": [
    "top_betweeenness_1213['Tag']=['AG','OC','AG','AG','OC','OC','P','P','M','P']"
   ]
  },
  {
   "cell_type": "code",
   "execution_count": 69,
   "id": "daa2aecc-1ba5-48c2-a549-2c354ef823f3",
   "metadata": {},
   "outputs": [],
   "source": [
    "top_betweeenness_1314['Tag']=['AG','OC','AG','AG','P','OC','OC','OC','P','OC']"
   ]
  },
  {
   "cell_type": "code",
   "execution_count": 70,
   "id": "6d97d419-b691-4b9e-bc12-20ead9e1aa3c",
   "metadata": {},
   "outputs": [],
   "source": [
    "top_betweeenness_1415['Tag']=['OC','OC','AG','P','OC','OC','AG','OC','P','M']"
   ]
  },
  {
   "cell_type": "code",
   "execution_count": 71,
   "id": "e1282b52-d55a-496a-b19b-292a9a019147",
   "metadata": {},
   "outputs": [],
   "source": [
    "top_betweeenness_1516['Tag']=['OC','OC','OC','AG','OC','OC','P','P','AG','AG']"
   ]
  },
  {
   "cell_type": "code",
   "execution_count": 72,
   "id": "94f25585-d3cb-4014-9219-b2b2a7dd39f5",
   "metadata": {},
   "outputs": [],
   "source": [
    "top_betweeenness_1617['Tag']=['OC','OC','P','AG','AG','AG','OC','P','AG','OC']"
   ]
  },
  {
   "cell_type": "code",
   "execution_count": 73,
   "id": "3d0438c6-fd93-41c6-bcb5-1b51e2179f04",
   "metadata": {},
   "outputs": [],
   "source": [
    "top_betweeenness_1718['Tag']=['OC','P','OC','OC','OC','OC','AG','OC','AG','OC']"
   ]
  },
  {
   "cell_type": "code",
   "execution_count": 74,
   "id": "d3b9bef0-0e91-4702-a024-9675ad6cafd6",
   "metadata": {},
   "outputs": [],
   "source": [
    "top_betweeenness_1819['Tag']=['OC','OC','OC','AG','OC','AG','P','AG','OC','AG']"
   ]
  },
  {
   "cell_type": "code",
   "execution_count": 75,
   "id": "3f8cf00c-f511-4e0c-93b8-30eb5e3e2acb",
   "metadata": {},
   "outputs": [],
   "source": [
    "top_betweeenness_1920['Tag']=['OC','OC','OC','OC','OC','OC','AG','AG','OC','OC']"
   ]
  },
  {
   "cell_type": "code",
   "execution_count": 76,
   "id": "243202d6-efc9-4118-9021-cee92cfb6f16",
   "metadata": {},
   "outputs": [],
   "source": [
    "top_betweeenness_2021['Tag']=['OC','OC','AG','P','OC','P','OC','M','OC','OC']"
   ]
  },
  {
   "cell_type": "code",
   "execution_count": 77,
   "id": "3e872054-3c68-4fb4-b128-92828ef3f6a2",
   "metadata": {},
   "outputs": [],
   "source": [
    "top_betweeenness_2122['Tag']=['OC','OC','AG','OC','OC','OC','AG','OC','OC','OC']"
   ]
  },
  {
   "cell_type": "code",
   "execution_count": 80,
   "id": "5ccd8aba-9e7d-4881-b992-b3d1ac61a79a",
   "metadata": {},
   "outputs": [],
   "source": [
    "# Create a list with all the tagged DataFrames so they can be looped over  \n",
    "in_degree_years = [top_betweeenness_1213, top_betweeenness_1314, top_betweeenness_1415, \n",
    "                   top_betweeenness_1516, top_betweeenness_1617, top_betweeenness_1718, \n",
    "                   top_betweeenness_1819, top_betweeenness_1920, top_betweeenness_2021, top_betweeenness_2122]\n",
    "# Loop over the DataFrames to count the amount of P, M, AG and OC nodes there were in each year\n",
    "# Then append those numbers to the right tag, so they are in the right format for the stacked bar plot\n",
    "p = []\n",
    "m = []\n",
    "ag = []\n",
    "oc = []\n",
    "for year in in_degree_years:\n",
    "    p.append((year['Tag']=='P').sum())\n",
    "    m.append((year['Tag']=='M').sum())\n",
    "    ag.append((year['Tag']=='AG').sum())\n",
    "    oc.append((year['Tag']=='OC').sum())"
   ]
  },
  {
   "cell_type": "code",
   "execution_count": 79,
   "id": "b0dfb69b-a97b-4652-b35e-37a269be2bcd",
   "metadata": {},
   "outputs": [
    {
     "data": {
      "image/png": "[encoded data removed]",
      "text/plain": [
       "<Figure size 432x288 with 1 Axes>"
      ]
     },
     "metadata": {
      "needs_background": "light"
     },
     "output_type": "display_data"
    }
   ],
   "source": [
    "# Create the stacked bar plot\n",
    "# The years are the x-axis\n",
    "x = ['12/13', '13/14', '14/15', '15/16', '16/17', '17/18', '18/19', '19/20', '20/21', '21/22']\n",
    "\n",
    "# Create the bars\n",
    "plt.bar(x, p, color='r', label='P');\n",
    "\n",
    "# Make sure the segments do not overlap by using the bottom parameter\n",
    "plt.bar(x, m, bottom=p, color='b', label='M');\n",
    "plt.bar(x, ag, bottom=[i + j for i, j in zip(p, m)], color='m', label='AG');\n",
    "plt.bar(x, oc, bottom=[i + j + k for i, j, k in zip(p, m, ag)], color='c', label='OC');\n",
    "\n",
    "# Add labels and title\n",
    "plt.xlabel(' Years')\n",
    "plt.ylabel('Top 10 highest betweenness centrality')\n",
    "plt.title('Tagged top 10 nodes with the highest betweenness centrality')\n",
    "plt.legend();"
   ]
  }
 ],
 "metadata": {
  "kernelspec": {
   "display_name": "Python 3 (ipykernel)",
   "language": "python",
   "name": "python3"
  },
  "language_info": {
   "codemirror_mode": {
    "name": "ipython",
    "version": 3
   },
   "file_extension": ".py",
   "mimetype": "text/x-python",
   "name": "python",
   "nbconvert_exporter": "python",
   "pygments_lexer": "ipython3",
   "version": "3.10.4"
  }
 },
 "nbformat": 4,
 "nbformat_minor": 5
}
